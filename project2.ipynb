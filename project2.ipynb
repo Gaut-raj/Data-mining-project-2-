import pandas as pd
import numpy as np
import seaborn as sns
import matplotlib.pyplot as plt
from sklearn.model_selection import train_test_split
from sklearn.preprocessing import StandardScaler
from sklearn.tree import DecisionTreeClassifier
from sklearn.metrics import accuracy_score, classification_report

# Load the dataset
df = pd.read_csv("bank.csv")

# Pre-processing the data
#check for nulls
print(df.isna().sum())
df.head()

# Pre-processing steps 
df_encoded = pd.get_dummies(df, drop_first=True)
X = df_encoded.drop(columns='deposit_yes')
y = df_encoded['deposit_yes']

X_train, X_test, y_train, y_test = train_test_split(X, y, test_size=0.3, random_state=42)

scaler = StandardScaler()
X_train_scaled = scaler.fit_transform(X_train)
X_test_scaled = scaler.transform(X_test)

# Initialize Decision Tree model
tree_model = DecisionTreeClassifier(random_state=42)

# Train the model
tree_model.fit(X_train_scaled, y_train)

# Make predictions
y_pred_tree = tree_model.predict(X_test_scaled)

# Evaluate the model
tree_accuracy = accuracy_score(y_test, y_pred_tree)
tree_classification_report = classification_report(y_test, y_pred_tree)

print("Accuracy:", tree_accuracy)
print("Classification Report:\n", tree_classification_report)
